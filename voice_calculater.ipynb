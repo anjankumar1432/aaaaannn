{
  "nbformat": 4,
  "nbformat_minor": 0,
  "metadata": {
    "colab": {
      "provenance": [],
      "authorship_tag": "ABX9TyM5PdbpZscJiFAJLIJYsyrb",
      "include_colab_link": true
    },
    "kernelspec": {
      "name": "python3",
      "display_name": "Python 3"
    },
    "language_info": {
      "name": "python"
    }
  },
  "cells": [
    {
      "cell_type": "markdown",
      "metadata": {
        "id": "view-in-github",
        "colab_type": "text"
      },
      "source": [
        "<a href=\"https://colab.research.google.com/github/anjankumar1432/aaaaannn/blob/main/voice_calculater.ipynb\" target=\"_parent\"><img src=\"https://colab.research.google.com/assets/colab-badge.svg\" alt=\"Open In Colab\"/></a>"
      ]
    },
    {
      "cell_type": "code",
      "execution_count": 1,
      "metadata": {
        "colab": {
          "base_uri": "https://localhost:8080/"
        },
        "id": "Tna6ThvxA2Nh",
        "outputId": "f0344a51-9e17-4158-ac29-c9ac67a99e89"
      },
      "outputs": [
        {
          "output_type": "stream",
          "name": "stdout",
          "text": [
            "Collecting speechrecognition\n",
            "  Downloading speechrecognition-3.14.3-py3-none-any.whl.metadata (30 kB)\n",
            "Collecting pydub\n",
            "  Downloading pydub-0.25.1-py2.py3-none-any.whl.metadata (1.4 kB)\n",
            "Requirement already satisfied: typing-extensions in /usr/local/lib/python3.11/dist-packages (from speechrecognition) (4.13.2)\n",
            "Downloading speechrecognition-3.14.3-py3-none-any.whl (32.9 MB)\n",
            "\u001b[2K   \u001b[90m━━━━━━━━━━━━━━━━━━━━━━━━━━━━━━━━━━━━━━━━\u001b[0m \u001b[32m32.9/32.9 MB\u001b[0m \u001b[31m15.4 MB/s\u001b[0m eta \u001b[36m0:00:00\u001b[0m\n",
            "\u001b[?25hDownloading pydub-0.25.1-py2.py3-none-any.whl (32 kB)\n",
            "Installing collected packages: pydub, speechrecognition\n",
            "Successfully installed pydub-0.25.1 speechrecognition-3.14.3\n"
          ]
        }
      ],
      "source": [
        "!pip install speechrecognition pydub"
      ]
    },
    {
      "cell_type": "code",
      "source": [
        "import speech_recognition as st\n",
        "from pydub import AudioSegment\n",
        "mp3_file='/content/WhatsApp Ptt 2025-05-20 at 2.56.56 PM (online-audio-converter.com).mp3'\n",
        "wav_file='/content/WhatsApp Ptt 2025-05-20 at 2.56.56 PM (online-audio-converter.com).wav'\n",
        "\n",
        "audio=AudioSegment.from_mp3(mp3_file)\n",
        "audio.export(\"audio.wav\",format=\"wav\")"
      ],
      "metadata": {
        "colab": {
          "base_uri": "https://localhost:8080/"
        },
        "id": "Kh-UcAu9A7B7",
        "outputId": "c102e063-f36f-4724-c59e-f466232218a1"
      },
      "execution_count": 2,
      "outputs": [
        {
          "output_type": "execute_result",
          "data": {
            "text/plain": [
              "<_io.BufferedRandom name='audio.wav'>"
            ]
          },
          "metadata": {},
          "execution_count": 2
        }
      ]
    },
    {
      "cell_type": "code",
      "source": [
        "import speech_recognition as sr\n",
        "reco=sr.Recognizer()\n",
        "with sr.AudioFile('/content/audio.wav') as source:\n",
        "  audio_data=reco.record(source)\n",
        "  text= reco.recognize_google(audio_data)\n",
        "  print('transcript:',text)"
      ],
      "metadata": {
        "colab": {
          "base_uri": "https://localhost:8080/"
        },
        "id": "3b1eDttXBxWL",
        "outputId": "4c97e177-82f3-4346-c6da-eb4c05489571"
      },
      "execution_count": 13,
      "outputs": [
        {
          "output_type": "stream",
          "name": "stdout",
          "text": [
            "transcript: 5 + 3\n"
          ]
        }
      ]
    },
    {
      "cell_type": "code",
      "source": [
        "t=eval(text)\n",
        "t"
      ],
      "metadata": {
        "colab": {
          "base_uri": "https://localhost:8080/"
        },
        "id": "ZeVmUoh0B_LR",
        "outputId": "0f2d64fb-8e1a-483d-e92c-907cfc983bb1"
      },
      "execution_count": 15,
      "outputs": [
        {
          "output_type": "execute_result",
          "data": {
            "text/plain": [
              "8"
            ]
          },
          "metadata": {},
          "execution_count": 15
        }
      ]
    },
    {
      "cell_type": "code",
      "source": [
        "res= \"The result of \"+ text + \" is \" + str(eval(text))\n",
        "res"
      ],
      "metadata": {
        "colab": {
          "base_uri": "https://localhost:8080/",
          "height": 36
        },
        "id": "hCfhMw3MER8q",
        "outputId": "b6246f7e-6a15-4d3d-b374-ba7fc4bb9ef2"
      },
      "execution_count": 18,
      "outputs": [
        {
          "output_type": "execute_result",
          "data": {
            "text/plain": [
              "'The result of 5 + 3 is 8'"
            ],
            "application/vnd.google.colaboratory.intrinsic+json": {
              "type": "string"
            }
          },
          "metadata": {},
          "execution_count": 18
        }
      ]
    },
    {
      "cell_type": "code",
      "source": [
        "!pip install gTTS"
      ],
      "metadata": {
        "colab": {
          "base_uri": "https://localhost:8080/"
        },
        "id": "0m-p-w1kHiCf",
        "outputId": "82ae12a5-6f4e-468f-ff2c-efa4dc658620"
      },
      "execution_count": 20,
      "outputs": [
        {
          "output_type": "stream",
          "name": "stdout",
          "text": [
            "Collecting gTTS\n",
            "  Downloading gTTS-2.5.4-py3-none-any.whl.metadata (4.1 kB)\n",
            "Requirement already satisfied: requests<3,>=2.27 in /usr/local/lib/python3.11/dist-packages (from gTTS) (2.32.3)\n",
            "Collecting click<8.2,>=7.1 (from gTTS)\n",
            "  Downloading click-8.1.8-py3-none-any.whl.metadata (2.3 kB)\n",
            "Requirement already satisfied: charset-normalizer<4,>=2 in /usr/local/lib/python3.11/dist-packages (from requests<3,>=2.27->gTTS) (3.4.2)\n",
            "Requirement already satisfied: idna<4,>=2.5 in /usr/local/lib/python3.11/dist-packages (from requests<3,>=2.27->gTTS) (3.10)\n",
            "Requirement already satisfied: urllib3<3,>=1.21.1 in /usr/local/lib/python3.11/dist-packages (from requests<3,>=2.27->gTTS) (2.4.0)\n",
            "Requirement already satisfied: certifi>=2017.4.17 in /usr/local/lib/python3.11/dist-packages (from requests<3,>=2.27->gTTS) (2025.4.26)\n",
            "Downloading gTTS-2.5.4-py3-none-any.whl (29 kB)\n",
            "Downloading click-8.1.8-py3-none-any.whl (98 kB)\n",
            "\u001b[2K   \u001b[90m━━━━━━━━━━━━━━━━━━━━━━━━━━━━━━━━━━━━━━━━\u001b[0m \u001b[32m98.2/98.2 kB\u001b[0m \u001b[31m4.5 MB/s\u001b[0m eta \u001b[36m0:00:00\u001b[0m\n",
            "\u001b[?25hInstalling collected packages: click, gTTS\n",
            "  Attempting uninstall: click\n",
            "    Found existing installation: click 8.2.0\n",
            "    Uninstalling click-8.2.0:\n",
            "      Successfully uninstalled click-8.2.0\n",
            "Successfully installed click-8.1.8 gTTS-2.5.4\n"
          ]
        }
      ]
    },
    {
      "cell_type": "code",
      "source": [
        "from gtts import gTTS"
      ],
      "metadata": {
        "id": "ncPAdhEIH8fv"
      },
      "execution_count": 21,
      "outputs": []
    },
    {
      "cell_type": "code",
      "source": [
        "b=gTTS(res)\n",
        "b.save(\"add.mp3\")"
      ],
      "metadata": {
        "id": "eyDVgcnCIHev"
      },
      "execution_count": 27,
      "outputs": []
    },
    {
      "cell_type": "code",
      "source": [
        "from IPython.display import Audio"
      ],
      "metadata": {
        "id": "uH0dncIhJH-v"
      },
      "execution_count": 28,
      "outputs": []
    },
    {
      "cell_type": "code",
      "source": [
        "Audio(\"/content/add.mp3\")"
      ],
      "metadata": {
        "colab": {
          "base_uri": "https://localhost:8080/",
          "height": 76
        },
        "id": "XJJOnBAdIQJ_",
        "outputId": "b985a750-2a09-4e5b-f202-2ee8d5c52a27"
      },
      "execution_count": 29,
      "outputs": [
        {
          "output_type": "execute_result",
          "data": {
            "text/plain": [
              "<IPython.lib.display.Audio object>"
            ],
            "text/html": [
              "\n",
              "                <audio  controls=\"controls\" >\n",
              "                    <source src=\"data:audio/mpeg;base64,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\" type=\"audio/mpeg\" />\n",
              "                    Your browser does not support the audio element.\n",
              "                </audio>\n",
              "              "
            ]
          },
          "metadata": {},
          "execution_count": 29
        }
      ]
    },
    {
      "cell_type": "code",
      "source": [],
      "metadata": {
        "id": "ERGFPUrQIXZG"
      },
      "execution_count": null,
      "outputs": []
    }
  ]
}